{
  "nbformat": 4,
  "nbformat_minor": 0,
  "metadata": {
    "kernelspec": {
      "display_name": "Python 3",
      "language": "python",
      "name": "python3"
    },
    "language_info": {
      "codemirror_mode": {
        "name": "ipython",
        "version": 3
      },
      "file_extension": ".py",
      "mimetype": "text/x-python",
      "name": "python",
      "nbconvert_exporter": "python",
      "pygments_lexer": "ipython3",
      "version": "3.7.4"
    },
    "colab": {
      "name": "main.ipynb",
      "provenance": [],
      "collapsed_sections": [
        "KveFbQUu6mAN",
        "lM8HYbYN7Kfa",
        "QSX6Fl6s6iq8"
      ]
    }
  },
  "cells": [
    {
      "cell_type": "code",
      "metadata": {
        "id": "o1DBDc_w463_"
      },
      "source": [
        "import pandas as pd\n",
        "import numpy as np\n",
        "from nltk.stem import SnowballStemmer\n",
        "from nltk.tokenize import word_tokenize\n",
        "\n",
        "import search_engine\n",
        "\n",
        "from sklearn.feature_extraction.text import TfidfVectorizer\n",
        "from sklearn.metrics.pairwise import cosine_similarity\n",
        "\n",
        "# function for question 4 and 5\n",
        "from Function import *\n",
        "\n",
        "import string"
      ],
      "execution_count": null,
      "outputs": []
    },
    {
      "cell_type": "markdown",
      "metadata": {
        "id": "KveFbQUu6mAN"
      },
      "source": [
        "## Question 2"
      ]
    },
    {
      "cell_type": "markdown",
      "metadata": {
        "id": "boX7uWcv5clR"
      },
      "source": [
        "### Question 2.1 "
      ]
    },
    {
      "cell_type": "markdown",
      "metadata": {
        "id": "GiGZ9dIK464A"
      },
      "source": [
        "Given the tsv file we obtain from the parsing, we are going now to build the related vocabulary."
      ]
    },
    {
      "cell_type": "code",
      "metadata": {
        "id": "-y1wNPP4464A"
      },
      "source": [
        "file = '../data_in/Books.tsv'\n",
        "vocab = '../data_out/vocab.json'\n",
        "data_file = '../data_in/Books_processed.csv'\n",
        "is_read_file = True # change to False to build from scratch\n",
        "\n",
        "s = search_engine.SearchEngine(\n",
        "    stemmer=SnowballStemmer(language='english'), \n",
        "    tokenizer=word_tokenize)\n",
        "\n",
        "if is_read_file:\n",
        "    # read from files\n",
        "    df = pd.read_csv(data_file)\n",
        "    df['Plot_tokens'] = df['Plot_tokens'].str.replace('[', '').replace(']', '').apply(lambda x: x.split(','))\n",
        "    s.add_data_fname(file)\n",
        "    s.load_vocab(vocab)\n",
        "else:\n",
        "    # building inverted index\n",
        "    is_all_ok, df = s.build_inverted_index(file)\n",
        "\n",
        "    # save vocabulary file \n",
        "    s.dump_vocab(vocab)"
      ],
      "execution_count": null,
      "outputs": []
    },
    {
      "cell_type": "markdown",
      "metadata": {
        "id": "1apDT_ZE464A"
      },
      "source": [
        "#### Executing the query\n",
        "\n",
        "Just let us know what you are willing to search!!!"
      ]
    },
    {
      "cell_type": "code",
      "metadata": {
        "id": "2hsFtRJC464A",
        "outputId": "804cec2b-0adf-45f2-a312-6c5daae87a49"
      },
      "source": [
        "# query and render results\n",
        "q = input()\n",
        "results = s.conjunctive_search(q)\n",
        "results = pd.DataFrame(results, columns=['bookId'])\n",
        "s.render_results(results, query=q)"
      ],
      "execution_count": null,
      "outputs": [
        {
          "output_type": "stream",
          "text": [
            "survival games\n"
          ],
          "name": "stdout"
        },
        {
          "output_type": "display_data",
          "data": {
            "text/html": [
              "<h3><a href=\"https://www.goodreads.com/book/show/2767052-the-hunger-games\n",
              "\" target=\"_blank\">The Hunger Games</a></h3>\n",
              "                <p>Book Id: <a href=\"https://www.goodreads.com/book/show/2767052-the-hunger-games\n",
              "\" target=\"_blank\">1</a></p>\n",
              "                \n",
              "                <p>Could you <i style=\"background-color: #000000; color: #ffff00\">surviv</i>e on your own in the wild, with every one out to make sure you don't live to see the morning?                        In the ruins of a place once known as North America lies the nation of Panem, a shining Capitol surrounded by twelve outlying districts. The Capitol is harsh and cruel and keeps the districts in line by forcing them all to send one boy and one girl between the ages of twelve and eighteen to participate in the annual Hunger <i style=\"background-color: #000000; color: #ffff00\">Game</i>s, a fight to the death on live TV.                        Sixteen-year-old Katniss Everdeen, who lives alone with her mother and younger sister, regards it as a death sentence when she steps forward to take her sister's place in the <i style=\"background-color: #000000; color: #ffff00\">Game</i>s. But Katniss has been close to dead before—and <i style=\"background-color: #000000; color: #ffff00\">surviv</i>al, for her, is second nature. Without really meaning to, she becomes a contender. But if she is to win, she will have to start making choices that weight <i style=\"background-color: #000000; color: #ffff00\">surviv</i>al against humanity and life against love.</p>"
            ],
            "text/plain": [
              "<IPython.core.display.HTML object>"
            ]
          },
          "metadata": {
            "tags": []
          }
        },
        {
          "output_type": "display_data",
          "data": {
            "text/html": [
              "<h3><a href=\"https://www.goodreads.com/book/show/6148028-catching-fire\n",
              "\" target=\"_blank\">Catching Fire</a></h3>\n",
              "                <p>Book Id: <a href=\"https://www.goodreads.com/book/show/6148028-catching-fire\n",
              "\" target=\"_blank\">28674</a></p>\n",
              "                \n",
              "                <p>SPARKS ARE IGNITING.                          FLAMES ARE SPREADING.                          AND THE CAPITAL WANTS REVENGE.                        Against all odds, Katniss Everdeen has <i style=\"background-color: #000000; color: #ffff00\">surviv</i>ed the Hunger <i style=\"background-color: #000000; color: #ffff00\">Game</i>s. She and fellow District 12 tribute Peeta Mellark are miraculously still alive. Katniss should be relieved, happy even. Yet nothing is the way Katniss wishes it to be. Gale holds her at an icy distance. Peeta has turned his back on her completely. And there are whispers of a rebellion against the Capitol - a rebellion that Katniss and Peeta may have helped create.                        Much to her shock, Katniss has fueled an unrest that she's afraid she cannot stop. And what scares her even more is that she's not entirely convinced she should try. As time draws near for Katniss and Peeta to visit the districts on the Capitol's cruel Victory Tour, the stakes are higher than ever. If they can't prove, without a shadow of a doubt, that they are lost in their love for each other, the consequences will be horrifying. Katniss is about to be tested as never before.</p>"
            ],
            "text/plain": [
              "<IPython.core.display.HTML object>"
            ]
          },
          "metadata": {
            "tags": []
          }
        },
        {
          "output_type": "display_data",
          "data": {
            "text/html": [
              "<h3><a href=\"https://www.goodreads.com/book/show/7260188-mockingjay\n",
              "\" target=\"_blank\">Mockingjay</a></h3>\n",
              "                <p>Book Id: <a href=\"https://www.goodreads.com/book/show/7260188-mockingjay\n",
              "\" target=\"_blank\">5134</a></p>\n",
              "                \n",
              "                <p>The final book in the ground-breaking HUNGER GAMES trilogy, this new foiled edition of MOCKINGJAY is available for a limited period of time. Against all odds, Katniss Everdeen has <i style=\"background-color: #000000; color: #ffff00\">surviv</i>ed the Hunger <i style=\"background-color: #000000; color: #ffff00\">Game</i>s twice. But now that she's made it out of the bloody arena alive, she's still not safe. The Capitol is angry. The Capitol wants revenge. Who do they think should pay for the unrest? Katniss. And what's worse, President Snow has made it clear that no one else is safe either. Not Katniss's family, not her friends, not the people of District 12.</p>"
            ],
            "text/plain": [
              "<IPython.core.display.HTML object>"
            ]
          },
          "metadata": {
            "tags": []
          }
        },
        {
          "output_type": "display_data",
          "data": {
            "text/html": [
              "<h3><a href=\"https://www.goodreads.com/book/show/9275658-legend\n",
              "\" target=\"_blank\">Legend</a></h3>\n",
              "                <p>Book Id: <a href=\"https://www.goodreads.com/book/show/9275658-legend\n",
              "\" target=\"_blank\">18959</a></p>\n",
              "                \n",
              "                <p>What was once the western United States is now home to the Republic, a nation perpetually at war with its neighbors. Born into an elite family in one of the Republic's wealthiest districts, fifteen-year-old June is a prodigy being groomed for success in the Republic's highest military circles. Born into the slums, fifteen-year-old Day is the country's most wanted criminal. But his motives may not be as malicious as they seem.                        From very different worlds, June and Day have no reason to cross paths—until the day June's brother, Metias, is murdered and Day becomes the prime suspect. Caught in the ultimate <i style=\"background-color: #000000; color: #ffff00\">game</i> of cat and mouse, Day is in a race for his family's <i style=\"background-color: #000000; color: #ffff00\">surviv</i>al, while June seeks to avenge Metias's death. But in a shocking turn of events, the two uncover the truth of what has really brought them together, and the sinister lengths their country will go to keep its secrets.                        Alternate Cover edition for ISBN                         9780399256752</p>"
            ],
            "text/plain": [
              "<IPython.core.display.HTML object>"
            ]
          },
          "metadata": {
            "tags": []
          }
        },
        {
          "output_type": "display_data",
          "data": {
            "text/html": [
              "<h3><a href=\"https://www.goodreads.com/book/show/60748.A_Child_Called_It_\n",
              "\" target=\"_blank\">A Child Called \"It\"</a></h3>\n",
              "                <p>Book Id: <a href=\"https://www.goodreads.com/book/show/60748.A_Child_Called_It_\n",
              "\" target=\"_blank\">1557</a></p>\n",
              "                \n",
              "                <p>Also see: Alternate Cover Editions for this ISBN [ACE]                          ACE #1                         This book chronicles the unforgettable account of one of the most severe child abuse cases in California history. It is the story of Dave Pelzer, who was brutally beaten and starved by his emotionally unstable, alcoholic mother: a mother who played tortuous, unpredictable <i style=\"background-color: #000000; color: #ffff00\">game</i>s—<i style=\"background-color: #000000; color: #ffff00\">game</i>s that left him nearly dead. He had to learn how to play his mother's <i style=\"background-color: #000000; color: #ffff00\">game</i>s in order to <i style=\"background-color: #000000; color: #ffff00\">surviv</i>e because she no longer considered him a son, but a slave; and no longer a boy, but an \"it.\" Dave's bed was an old army cot in the basement, and his clothes were torn and raunchy. When his mother allowed him the luxury of food, it was nothing more than spoiled scraps that even the dogs refused to eat. The outside world knew nothing of his living nightmare. He had nothing or no one to turn to, but his dreams kept him alive—dreams of someone taking care of him, loving him and calling him their son.</p>"
            ],
            "text/plain": [
              "<IPython.core.display.HTML object>"
            ]
          },
          "metadata": {
            "tags": []
          }
        }
      ]
    },
    {
      "cell_type": "markdown",
      "metadata": {
        "id": "NMfst40l464C"
      },
      "source": [
        "You can clearly see that we have retrieved the documents connected to your query!\n",
        "\n",
        "\n",
        "Please, if you need more information about any of the found books, do not hesitate to click on the book title and get directly to the page of the book."
      ]
    },
    {
      "cell_type": "markdown",
      "metadata": {
        "id": "8cPE7Yyw5LrG"
      },
      "source": [
        "### Question 2.2 (TF-IDF)"
      ]
    },
    {
      "cell_type": "markdown",
      "metadata": {
        "id": "RDUrl276474I"
      },
      "source": [
        "In this initial step we are going to take the relevant files and build the vocabulary."
      ]
    },
    {
      "cell_type": "code",
      "metadata": {
        "id": "scXYf3Rm474I"
      },
      "source": [
        "file = '../data_in/Books.tsv'\n",
        "vocab = '../data_out/vocab.json'\n",
        "data_file = '../data_in/Books_processed.csv'\n",
        "is_read_file = True\n",
        "\n",
        "s = search_engine.SearchEngine(\n",
        "    stemmer=SnowballStemmer(language='english'), \n",
        "    tokenizer=word_tokenize)"
      ],
      "execution_count": null,
      "outputs": []
    },
    {
      "cell_type": "code",
      "metadata": {
        "id": "uduJV_HJ474J"
      },
      "source": [
        "if is_read_file:\n",
        "    # read from files\n",
        "    df = pd.read_csv(data_file)\n",
        "    df['Plot_tokens'] = df['Plot_tokens'].str.replace('[', '').replace(']', '').apply(lambda x: x.split(','))\n",
        "    s.add_data_fname(file)\n",
        "    s.load_vocab(vocab)\n",
        "else:\n",
        "    # building inverted index\n",
        "    is_all_ok, df = s.build_inverted_index(file)\n",
        "\n",
        "    # save vocabulary file \n",
        "    s.dump_vocab(vocab)"
      ],
      "execution_count": null,
      "outputs": []
    },
    {
      "cell_type": "code",
      "metadata": {
        "id": "D9i15qbY474J"
      },
      "source": [
        "\"\"\"\n",
        "With this function we are going to fund the list of documents considering the score of each one.\n",
        "\"\"\"\n",
        "def search_by_score(query, df, variants):\n",
        "    q_vect = vect.transform([query])\n",
        "    d = df[df['bookId'].isin(variants)].copy()\n",
        "    d['sim'] = d['tf_idf'].apply(lambda x: cosine_similarity(x, q_vect).flatten()[0])\n",
        "    results = d.sort_values(by='sim', ascending=False)[:10][['bookId', 'sim']]\n",
        "    return results"
      ],
      "execution_count": null,
      "outputs": []
    },
    {
      "cell_type": "code",
      "metadata": {
        "id": "nO6251g5474J",
        "outputId": "3609b9fe-dab0-4632-cef3-7320c3403298"
      },
      "source": [
        "vect = TfidfVectorizer()\n",
        "dataset = vect.fit_transform(df['Plot_tokens'].apply(lambda x: ' '.join([w for w in x])))\n",
        "df['tf_idf'] = [x for x in dataset]\n",
        "\n",
        "query = input()\n",
        "\n",
        "variants = s.conjunctive_search(query)\n",
        "results = search_by_score(query, df, variants)"
      ],
      "execution_count": null,
      "outputs": [
        {
          "output_type": "stream",
          "text": [
            "survival games\n"
          ],
          "name": "stdout"
        }
      ]
    },
    {
      "cell_type": "markdown",
      "metadata": {
        "id": "gjnvpjlN474K"
      },
      "source": [
        "The *output* will consist in a list of the books with the highest cosine score in relation to the input query."
      ]
    },
    {
      "cell_type": "code",
      "metadata": {
        "scrolled": false,
        "id": "_Zko7l3V474K",
        "outputId": "f6d100a4-8fb7-4a6a-9e51-a69b04766208"
      },
      "source": [
        "s.render_results(results, query=query, at_k=5)"
      ],
      "execution_count": null,
      "outputs": [
        {
          "output_type": "display_data",
          "data": {
            "text/html": [
              "<h3><a href=\"https://www.goodreads.com/book/show/2767052-the-hunger-games\n",
              "\" target=\"_blank\">The Hunger Games</a></h3>\n",
              "                <p>Book Id: <a href=\"https://www.goodreads.com/book/show/2767052-the-hunger-games\n",
              "\" target=\"_blank\">381</a></p>\n",
              "                <p>Cosine score: 14.20</p>\n",
              "                <p>Could you <i style=\"background-color: #000000; color: #ffff00\">surviv</i>e on your own in the wild, with every one out to make sure you don't live to see the morning?                        In the ruins of a place once known as North America lies the nation of Panem, a shining Capitol surrounded by twelve outlying districts. The Capitol is harsh and cruel and keeps the districts in line by forcing them all to send one boy and one girl between the ages of twelve and eighteen to participate in the annual Hunger <i style=\"background-color: #000000; color: #ffff00\">Game</i>s, a fight to the death on live TV.                        Sixteen-year-old Katniss Everdeen, who lives alone with her mother and younger sister, regards it as a death sentence when she steps forward to take her sister's place in the <i style=\"background-color: #000000; color: #ffff00\">Game</i>s. But Katniss has been close to dead before—and <i style=\"background-color: #000000; color: #ffff00\">surviv</i>al, for her, is second nature. Without really meaning to, she becomes a contender. But if she is to win, she will have to start making choices that weight <i style=\"background-color: #000000; color: #ffff00\">surviv</i>al against humanity and life against love.</p>"
            ],
            "text/plain": [
              "<IPython.core.display.HTML object>"
            ]
          },
          "metadata": {
            "tags": []
          }
        },
        {
          "output_type": "display_data",
          "data": {
            "text/html": [
              "<h3><a href=\"https://www.goodreads.com/book/show/60748.A_Child_Called_It_\n",
              "\" target=\"_blank\">A Child Called \"It\"</a></h3>\n",
              "                <p>Book Id: <a href=\"https://www.goodreads.com/book/show/60748.A_Child_Called_It_\n",
              "\" target=\"_blank\">26218</a></p>\n",
              "                <p>Cosine score: 12.43</p>\n",
              "                <p>Also see: Alternate Cover Editions for this ISBN [ACE]                          ACE #1                         This book chronicles the unforgettable account of one of the most severe child abuse cases in California history. It is the story of Dave Pelzer, who was brutally beaten and starved by his emotionally unstable, alcoholic mother: a mother who played tortuous, unpredictable <i style=\"background-color: #000000; color: #ffff00\">game</i>s—<i style=\"background-color: #000000; color: #ffff00\">game</i>s that left him nearly dead. He had to learn how to play his mother's <i style=\"background-color: #000000; color: #ffff00\">game</i>s in order to <i style=\"background-color: #000000; color: #ffff00\">surviv</i>e because she no longer considered him a son, but a slave; and no longer a boy, but an \"it.\" Dave's bed was an old army cot in the basement, and his clothes were torn and raunchy. When his mother allowed him the luxury of food, it was nothing more than spoiled scraps that even the dogs refused to eat. The outside world knew nothing of his living nightmare. He had nothing or no one to turn to, but his dreams kept him alive—dreams of someone taking care of him, loving him and calling him their son.</p>"
            ],
            "text/plain": [
              "<IPython.core.display.HTML object>"
            ]
          },
          "metadata": {
            "tags": []
          }
        },
        {
          "output_type": "display_data",
          "data": {
            "text/html": [
              "<h3><a href=\"https://www.goodreads.com/book/show/17188067-tall-dark-and-deadly-3-book-box-set\n",
              "\" target=\"_blank\">Tall, Dark, and Deadly 3 Book Box Set</a></h3>\n",
              "                <p>Book Id: <a href=\"https://www.goodreads.com/book/show/17188067-tall-dark-and-deadly-3-book-box-set\n",
              "\" target=\"_blank\">1</a></p>\n",
              "                <p>Cosine score: 0.00</p>\n",
              "                <p>The Walker Brothers...                        Tall, dark, and deadly, these three brothers run Walker security. Each brother is unique in his methods and skills, but all share key similarities. They are passionate about those they love, relentless when fighting for a cause they believe in, and all believe that no case is too hard, no danger too dark. Dedication is what they deliver, results are their reward.                          Hot Secrets                         55,000 words                        Royce Walker, a former FBI Agent, who's opened a private security firm with his brothers, has always had the hots for the prim, proper Assistant District Attorney, but considered her hand's off because of a family connection. However, when danger threatens Lauren, he isn't willing to stand by and watch her get hurt. Now the passion for <i style=\"background-color: #000000; color: #ffff00\">surviv</i>al is only rivaled by the passion burning between them. And that passion, might just be the death of them both.                        ***                          Dangerous Secrets                         72,000 words                        Being a divorce attorney for the rich and famous isn't all it's cracked up to be. Julie Harrison has learned that love doesn't last, and she's sworn never to make the same mistakes as her mother, or her clients. She uses the <i style=\"background-color: #000000; color: #ffff00\">game</i>s men play to keep them at a distance. The only man who managed to break down her walls was Luke Walker, a Navy SEAL who loved her and left her, and changed her forever.                        When Luke arrives back in New York, running Walker Security with his brothers and having left his Navy SEAL days behind, he sets his sights on Julie, the woman he's always wanted and couldn't have. Except, she runs from him every time he gets close.                        But now, one of Julie's clients, a powerful judge, gets involved with a dangerous cartel, and his soon-to-be-ex wife ends up dead. Julie's next on the list, and she finds herself on the run from those who believe she knows too much, and counting on Luke to keep her alive. In the deepest, darkest moments of the night, passion will bring them together while danger threatens to tear them apart. Can Julie and Luke trust each other and find their happy ending before they find ... the end?                        ***                          Secrets Exposed                         75,000 words About Secrets Exposed: Her enemy is her passion, her passion is her enemy...                        Lindsey Paxton was once the number one defense attorney in New York. She fought for those who were innocent, but charged. Her instincts were her lifeline, never failing her, as they guided her in her choices of who to defend. Or so she thought. Until she won a case she would forever wish to have lost. Her client, an accused rapist, kills and rapes a woman only a day after being set free. Destroyed by her role in the woman's death, Lindsey blames her father's controlling ways for what she has become, and runs from her career and life. Years later - the past becomes the present, and one man, her enemy, the only one she can turn to.</p>"
            ],
            "text/plain": [
              "<IPython.core.display.HTML object>"
            ]
          },
          "metadata": {
            "tags": []
          }
        },
        {
          "output_type": "display_data",
          "data": {
            "text/html": [
              "<h3><a href=\"https://www.goodreads.com/book/show/36463950-a-life-once-lived\n",
              "\" target=\"_blank\">A Life Once Lived</a></h3>\n",
              "                <p>Book Id: <a href=\"https://www.goodreads.com/book/show/36463950-a-life-once-lived\n",
              "\" target=\"_blank\">19443</a></p>\n",
              "                <p>Cosine score: 0.00</p>\n",
              "                <p>Waverly Jones is always <i style=\"background-color: #000000; color: #ffff00\">game</i> to try something new. But, when she tries her hand at sailing, and instead finds herself falling into a vortex in the middle of the ocean, death seems certain. Yet somehow, she lands at the foot of a strange woman, two-hundred years before her time, who insists she become a part of the English society she’s now in.                        Attending balls, house parties, and meeting curious visitors suddenly become a part of the life she must live, and with her good humor and funny mannerisms, she charms more than a few. Yet her secret determination to return home never wavers. Until she discovers there’s an assassin tasked with getting rid of her if she tries.                        Forced to make choices she never dreamed of, she escapes on a ship bound to the Americas with a sea captain that has far more secrets than she ever imagined. As their unusual friendship grows, Waverly must <i style=\"background-color: #000000; color: #ffff00\">surviv</i>e the dangers that continue to follow her, and find her way in a time and place that’s not her own.                        ***Amusing, mysterious and romantic, A Life Once Lived is an epic adventure that takes you on an exciting journey across an ever-changing landscape in time.</p>"
            ],
            "text/plain": [
              "<IPython.core.display.HTML object>"
            ]
          },
          "metadata": {
            "tags": []
          }
        },
        {
          "output_type": "display_data",
          "data": {
            "text/html": [
              "<h3><a href=\"https://www.goodreads.com/book/show/52494371-cybernetics-within-us\n",
              "\" target=\"_blank\">Cybernetics Within Us</a></h3>\n",
              "                <p>Book Id: <a href=\"https://www.goodreads.com/book/show/52494371-cybernetics-within-us\n",
              "\" target=\"_blank\">22906</a></p>\n",
              "                <p>Cosine score: 0.00</p>\n",
              "                <p>When planes mysteriously start crashing, the world's governments have to come together for a means to recognize the cause and put an end to it. But this has happened before, the problem is we don't remember.It all started with the awakening of something long dead. Something with a mind of its own, something that could twist our minds. Something that wants to play <i style=\"background-color: #000000; color: #ffff00\">game</i>s with our existence, and Sophia Kingston could feel its thoughts; it wants to destroy the world... again. She'd have to stop it, if only she could <i style=\"background-color: #000000; color: #ffff00\">surviv</i>e her mind damaging itself....A professor that wants to save the world...A tablet that wants to destroy the world...A young girl about to suffer a massive brain damage...And a man possessing secret knowledge lying in coma for ten years...There is only one villain and it seeks to destroy everythingThe future is the final goal...</p>"
            ],
            "text/plain": [
              "<IPython.core.display.HTML object>"
            ]
          },
          "metadata": {
            "tags": []
          }
        }
      ]
    },
    {
      "cell_type": "markdown",
      "metadata": {
        "id": "lM8HYbYN7Kfa"
      },
      "source": [
        "## Question 4"
      ]
    },
    {
      "cell_type": "code",
      "metadata": {
        "id": "4HHghZx16hBJ"
      },
      "source": [
        "books = pd.read_csv(\"Books.tsv\", sep='\\t', encoding= 'utf-8')"
      ],
      "execution_count": null,
      "outputs": []
    },
    {
      "cell_type": "code",
      "metadata": {
        "id": "5V10n2b86hBK",
        "outputId": "2b380e9d-cb6c-4a04-df9c-806cfe1a4b8a"
      },
      "source": [
        "books.head()"
      ],
      "execution_count": null,
      "outputs": [
        {
          "output_type": "execute_result",
          "data": {
            "text/html": [
              "<div>\n",
              "<style scoped>\n",
              "    .dataframe tbody tr th:only-of-type {\n",
              "        vertical-align: middle;\n",
              "    }\n",
              "\n",
              "    .dataframe tbody tr th {\n",
              "        vertical-align: top;\n",
              "    }\n",
              "\n",
              "    .dataframe thead th {\n",
              "        text-align: right;\n",
              "    }\n",
              "</style>\n",
              "<table border=\"1\" class=\"dataframe\">\n",
              "  <thead>\n",
              "    <tr style=\"text-align: right;\">\n",
              "      <th></th>\n",
              "      <th>bookId</th>\n",
              "      <th>bookTitle</th>\n",
              "      <th>bookSeries</th>\n",
              "      <th>bookAuthors</th>\n",
              "      <th>ratingValue</th>\n",
              "      <th>ratingCount</th>\n",
              "      <th>reviewCount</th>\n",
              "      <th>Plot</th>\n",
              "      <th>NumberofPages</th>\n",
              "      <th>PublishingDate</th>\n",
              "      <th>Characters</th>\n",
              "      <th>Settings</th>\n",
              "      <th>url</th>\n",
              "    </tr>\n",
              "  </thead>\n",
              "  <tbody>\n",
              "    <tr>\n",
              "      <td>0</td>\n",
              "      <td>1</td>\n",
              "      <td>The Hunger Games</td>\n",
              "      <td>(The Hunger Games #1)</td>\n",
              "      <td>Suzanne Collins</td>\n",
              "      <td>4.33</td>\n",
              "      <td>6414062.0</td>\n",
              "      <td>172642.0</td>\n",
              "      <td>Could you survive on your own in the wild, wit...</td>\n",
              "      <td>374.0</td>\n",
              "      <td>September 14th 2008</td>\n",
              "      <td>Katniss Everdeen, Peeta Mellark, Cato, Primros...</td>\n",
              "      <td>District 12, Panem, Capitol, Panem, Panem</td>\n",
              "      <td>https://www.goodreads.com/book/show/2767052-th...</td>\n",
              "    </tr>\n",
              "    <tr>\n",
              "      <td>1</td>\n",
              "      <td>2</td>\n",
              "      <td>Harry Potter and the Order of the Phoenix</td>\n",
              "      <td>(Harry Potter #5)</td>\n",
              "      <td>J.K. Rowling, Mary GrandPré</td>\n",
              "      <td>4.50</td>\n",
              "      <td>2527943.0</td>\n",
              "      <td>42800.0</td>\n",
              "      <td>There is a door at the end of a silent corrido...</td>\n",
              "      <td>870.0</td>\n",
              "      <td>September 2004</td>\n",
              "      <td>Sirius Black, Draco Malfoy, Ron Weasley, Petun...</td>\n",
              "      <td>Hogwarts School of Witchcraft and Wizardry, Lo...</td>\n",
              "      <td>https://www.goodreads.com/book/show/2.Harry_Po...</td>\n",
              "    </tr>\n",
              "    <tr>\n",
              "      <td>2</td>\n",
              "      <td>3</td>\n",
              "      <td>To Kill a Mockingbird</td>\n",
              "      <td>(To Kill a Mockingbird)</td>\n",
              "      <td>Harper Lee</td>\n",
              "      <td>4.28</td>\n",
              "      <td>4531861.0</td>\n",
              "      <td>91898.0</td>\n",
              "      <td>The unforgettable novel of a childhood in a sl...</td>\n",
              "      <td>324.0</td>\n",
              "      <td>May 23rd 2006</td>\n",
              "      <td>Scout Finch, Atticus Finch, Jem Finch, Arthur ...</td>\n",
              "      <td>Maycomb, Alabama</td>\n",
              "      <td>https://www.goodreads.com/book/show/2657.To_Ki...</td>\n",
              "    </tr>\n",
              "    <tr>\n",
              "      <td>3</td>\n",
              "      <td>4</td>\n",
              "      <td>Pride and Prejudice</td>\n",
              "      <td>NaN</td>\n",
              "      <td>Jane Austen, Anna Quindlen</td>\n",
              "      <td>4.26</td>\n",
              "      <td>3021022.0</td>\n",
              "      <td>67901.0</td>\n",
              "      <td>Alternate cover edition of ISBN 9780679783268 ...</td>\n",
              "      <td>279.0</td>\n",
              "      <td>October 10th 2000</td>\n",
              "      <td>Mr. Bennet, Mrs. Bennet, Jane Bennet, Elizabet...</td>\n",
              "      <td>United Kingdom, Derbyshire, England, England, ...</td>\n",
              "      <td>https://www.goodreads.com/book/show/1885.Pride...</td>\n",
              "    </tr>\n",
              "    <tr>\n",
              "      <td>4</td>\n",
              "      <td>5</td>\n",
              "      <td>Twilight</td>\n",
              "      <td>(The Twilight Saga #1)</td>\n",
              "      <td>Stephenie Meyer</td>\n",
              "      <td>3.60</td>\n",
              "      <td>4994449.0</td>\n",
              "      <td>104981.0</td>\n",
              "      <td>About three things I was absolutely positive. ...</td>\n",
              "      <td>501.0</td>\n",
              "      <td>September 6th 2006</td>\n",
              "      <td>Edward Cullen, Jacob Black, Laurent, Renee, Be...</td>\n",
              "      <td>Forks, Washington, Phoenix, Arizona, Washingto...</td>\n",
              "      <td>https://www.goodreads.com/book/show/41865.Twil...</td>\n",
              "    </tr>\n",
              "  </tbody>\n",
              "</table>\n",
              "</div>"
            ],
            "text/plain": [
              "   bookId                                  bookTitle               bookSeries  \\\n",
              "0       1                           The Hunger Games    (The Hunger Games #1)   \n",
              "1       2  Harry Potter and the Order of the Phoenix        (Harry Potter #5)   \n",
              "2       3                      To Kill a Mockingbird  (To Kill a Mockingbird)   \n",
              "3       4                        Pride and Prejudice                      NaN   \n",
              "4       5                                   Twilight   (The Twilight Saga #1)   \n",
              "\n",
              "                   bookAuthors  ratingValue  ratingCount  reviewCount  \\\n",
              "0              Suzanne Collins         4.33    6414062.0     172642.0   \n",
              "1  J.K. Rowling, Mary GrandPré         4.50    2527943.0      42800.0   \n",
              "2                   Harper Lee         4.28    4531861.0      91898.0   \n",
              "3   Jane Austen, Anna Quindlen         4.26    3021022.0      67901.0   \n",
              "4              Stephenie Meyer         3.60    4994449.0     104981.0   \n",
              "\n",
              "                                                Plot  NumberofPages  \\\n",
              "0  Could you survive on your own in the wild, wit...          374.0   \n",
              "1  There is a door at the end of a silent corrido...          870.0   \n",
              "2  The unforgettable novel of a childhood in a sl...          324.0   \n",
              "3  Alternate cover edition of ISBN 9780679783268 ...          279.0   \n",
              "4  About three things I was absolutely positive. ...          501.0   \n",
              "\n",
              "        PublishingDate                                         Characters  \\\n",
              "0  September 14th 2008  Katniss Everdeen, Peeta Mellark, Cato, Primros...   \n",
              "1       September 2004  Sirius Black, Draco Malfoy, Ron Weasley, Petun...   \n",
              "2        May 23rd 2006  Scout Finch, Atticus Finch, Jem Finch, Arthur ...   \n",
              "3    October 10th 2000  Mr. Bennet, Mrs. Bennet, Jane Bennet, Elizabet...   \n",
              "4   September 6th 2006  Edward Cullen, Jacob Black, Laurent, Renee, Be...   \n",
              "\n",
              "                                            Settings  \\\n",
              "0          District 12, Panem, Capitol, Panem, Panem   \n",
              "1  Hogwarts School of Witchcraft and Wizardry, Lo...   \n",
              "2                                   Maycomb, Alabama   \n",
              "3  United Kingdom, Derbyshire, England, England, ...   \n",
              "4  Forks, Washington, Phoenix, Arizona, Washingto...   \n",
              "\n",
              "                                                 url  \n",
              "0  https://www.goodreads.com/book/show/2767052-th...  \n",
              "1  https://www.goodreads.com/book/show/2.Harry_Po...  \n",
              "2  https://www.goodreads.com/book/show/2657.To_Ki...  \n",
              "3  https://www.goodreads.com/book/show/1885.Pride...  \n",
              "4  https://www.goodreads.com/book/show/41865.Twil...  "
            ]
          },
          "metadata": {
            "tags": []
          },
          "execution_count": 3
        }
      ]
    },
    {
      "cell_type": "markdown",
      "metadata": {
        "id": "MUKJ5R_F6hBL"
      },
      "source": [
        "In the below cell, we can see that we have a great number of null values for the bookSeries column.\n",
        "We decided to drop these rows."
      ]
    },
    {
      "cell_type": "code",
      "metadata": {
        "id": "t4lDzHvU6hBL",
        "outputId": "99e6e8fb-e6bf-4acf-8650-914e559e3d7b"
      },
      "source": [
        "books.isna().sum()"
      ],
      "execution_count": null,
      "outputs": [
        {
          "output_type": "execute_result",
          "data": {
            "text/plain": [
              "bookId                0\n",
              "bookTitle            20\n",
              "bookSeries        16662\n",
              "bookAuthors          20\n",
              "ratingValue          20\n",
              "ratingCount          20\n",
              "reviewCount          20\n",
              "Plot                598\n",
              "NumberofPages      1158\n",
              "PublishingDate      788\n",
              "Characters        20348\n",
              "Settings          21919\n",
              "url                   0\n",
              "dtype: int64"
            ]
          },
          "metadata": {
            "tags": []
          },
          "execution_count": 4
        }
      ]
    },
    {
      "cell_type": "code",
      "metadata": {
        "id": "ehFJjdiH6hBL"
      },
      "source": [
        "books = books.dropna(subset=['bookSeries'])\n",
        "books.reset_index(inplace = True, drop = True)"
      ],
      "execution_count": null,
      "outputs": []
    },
    {
      "cell_type": "markdown",
      "metadata": {
        "id": "hJ_C_AFv6hBL"
      },
      "source": [
        "In order to not consider the single books that contain in them an entire book series (eg The Hunger Games #1-3), we are going to use the **check_single_book** function to detect them and assigning to them a 0 value in the *uniqueBookFlag* column, while a value of 1 will be assigned to the books we will want to consider."
      ]
    },
    {
      "cell_type": "code",
      "metadata": {
        "id": "Af9z9RnD6hBM"
      },
      "source": [
        "books.bookSeries = books.bookSeries.apply(lambda x: replace_all(x,['(', ')']))\n",
        "books['uniqueBookFlag'] = books.bookSeries.apply(lambda x: check_single_book(x))\n",
        "books = books[books.uniqueBookFlag == 1]\n",
        "# standardize the book Series names\n",
        "books.bookSeries = books.bookSeries.apply(lambda x: clean_series(x))"
      ],
      "execution_count": null,
      "outputs": []
    },
    {
      "cell_type": "markdown",
      "metadata": {
        "id": "jy6zR9qd6hBM"
      },
      "source": [
        "We select only the book that are written in english as requested."
      ]
    },
    {
      "cell_type": "code",
      "metadata": {
        "id": "7SVRzzOf6hBM"
      },
      "source": [
        "books['lang'] = books['Plot'].apply(detect_stable)\n",
        "books = books[books.lang == 'en']\n",
        "books.reset_index(inplace = True, drop = True)"
      ],
      "execution_count": null,
      "outputs": []
    },
    {
      "cell_type": "markdown",
      "metadata": {
        "id": "jMBo7T2L6hBM"
      },
      "source": [
        "We decided to select only the series composed of more than one book otherwise the visualization will not be effective.\n"
      ]
    },
    {
      "cell_type": "code",
      "metadata": {
        "id": "PxjHL62X6hBM"
      },
      "source": [
        "books['nrBooksPerSeries'] = books.bookSeries.apply(lambda x: nrBooksPerSeries(books, x))\n",
        "books = books.loc[(books.nrBooksPerSeries) > 1]"
      ],
      "execution_count": null,
      "outputs": []
    },
    {
      "cell_type": "markdown",
      "metadata": {
        "id": "uQxAjX566hBM"
      },
      "source": [
        "We decided to pick the first ten book in order of appearence by computing the mean on the appereance value of the entire series."
      ]
    },
    {
      "cell_type": "code",
      "metadata": {
        "id": "s-XQrE626hBM"
      },
      "source": [
        "books['bookOrderAppearance'] = [i+1 for i in books.index]"
      ],
      "execution_count": null,
      "outputs": []
    },
    {
      "cell_type": "code",
      "metadata": {
        "id": "kTaSRHW06hBM",
        "outputId": "708d5d18-c6a5-4d26-c515-38dd0c60d7b2"
      },
      "source": [
        "books.groupby(['bookSeries'], as_index = False).agg({'bookOrderAppearance': 'mean'})\\\n",
        ".sort_values(by = 'bookOrderAppearance')[['bookSeries', 'bookOrderAppearance']][:10]"
      ],
      "execution_count": null,
      "outputs": [
        {
          "output_type": "execute_result",
          "data": {
            "text/html": [
              "<div>\n",
              "<style scoped>\n",
              "    .dataframe tbody tr th:only-of-type {\n",
              "        vertical-align: middle;\n",
              "    }\n",
              "\n",
              "    .dataframe tbody tr th {\n",
              "        vertical-align: top;\n",
              "    }\n",
              "\n",
              "    .dataframe thead th {\n",
              "        text-align: right;\n",
              "    }\n",
              "</style>\n",
              "<table border=\"1\" class=\"dataframe\">\n",
              "  <thead>\n",
              "    <tr style=\"text-align: right;\">\n",
              "      <th></th>\n",
              "      <th>bookSeries</th>\n",
              "      <th>bookOrderAppearance</th>\n",
              "    </tr>\n",
              "  </thead>\n",
              "  <tbody>\n",
              "    <tr>\n",
              "      <td>37</td>\n",
              "      <td>Adventures of Tom and Huck</td>\n",
              "      <td>29.000000</td>\n",
              "    </tr>\n",
              "    <tr>\n",
              "      <td>1796</td>\n",
              "      <td>The Infernal Devices</td>\n",
              "      <td>66.333333</td>\n",
              "    </tr>\n",
              "    <tr>\n",
              "      <td>610</td>\n",
              "      <td>Fifty Shades</td>\n",
              "      <td>114.000000</td>\n",
              "    </tr>\n",
              "    <tr>\n",
              "      <td>1839</td>\n",
              "      <td>The Lord of the Rings</td>\n",
              "      <td>148.000000</td>\n",
              "    </tr>\n",
              "    <tr>\n",
              "      <td>1873</td>\n",
              "      <td>The Mortal Instruments</td>\n",
              "      <td>151.166667</td>\n",
              "    </tr>\n",
              "    <tr>\n",
              "      <td>802</td>\n",
              "      <td>Hush, Hush</td>\n",
              "      <td>194.750000</td>\n",
              "    </tr>\n",
              "    <tr>\n",
              "      <td>1655</td>\n",
              "      <td>The Chronicles of Narnia Publication Order</td>\n",
              "      <td>202.500000</td>\n",
              "    </tr>\n",
              "    <tr>\n",
              "      <td>809</td>\n",
              "      <td>If I Stay</td>\n",
              "      <td>205.500000</td>\n",
              "    </tr>\n",
              "    <tr>\n",
              "      <td>1882</td>\n",
              "      <td>The Notebook</td>\n",
              "      <td>211.000000</td>\n",
              "    </tr>\n",
              "    <tr>\n",
              "      <td>1970</td>\n",
              "      <td>The Six of Crows Trilogy</td>\n",
              "      <td>229.000000</td>\n",
              "    </tr>\n",
              "  </tbody>\n",
              "</table>\n",
              "</div>"
            ],
            "text/plain": [
              "                                      bookSeries  bookOrderAppearance\n",
              "37                    Adventures of Tom and Huck            29.000000\n",
              "1796                        The Infernal Devices            66.333333\n",
              "610                                 Fifty Shades           114.000000\n",
              "1839                       The Lord of the Rings           148.000000\n",
              "1873                      The Mortal Instruments           151.166667\n",
              "802                                   Hush, Hush           194.750000\n",
              "1655  The Chronicles of Narnia Publication Order           202.500000\n",
              "809                                    If I Stay           205.500000\n",
              "1882                                The Notebook           211.000000\n",
              "1970                    The Six of Crows Trilogy           229.000000"
            ]
          },
          "metadata": {
            "tags": []
          },
          "execution_count": 10
        }
      ]
    },
    {
      "cell_type": "code",
      "metadata": {
        "id": "Jq6ueJTs6hBM"
      },
      "source": [
        "#collecting the first ten book series\n",
        "Series = books.groupby(['bookSeries'], as_index = False).agg({'bookOrderAppearance': 'mean'})\\\n",
        ".sort_values(by = 'bookOrderAppearance').bookSeries[:10].values"
      ],
      "execution_count": null,
      "outputs": []
    },
    {
      "cell_type": "code",
      "metadata": {
        "id": "Sr7_bkI46hBM"
      },
      "source": [
        "book_analysis = books[books.bookSeries.isin(Series)].copy()"
      ],
      "execution_count": null,
      "outputs": []
    },
    {
      "cell_type": "code",
      "metadata": {
        "id": "_O5u9luZ6hBM"
      },
      "source": [
        "# processing year -> transforming to a dt value and considering only the year\n",
        "book_analysis.PublishingDate = book_analysis.PublishingDate.apply(pd.to_datetime)\n",
        "book_analysis.PublishingDate = book_analysis.PublishingDate.apply(lambda x: x.year)\n",
        "# computing the difference between the min value in the column and every single other year present\n",
        "book_analysis.PublishingDate = book_analysis.PublishingDate - book_analysis.PublishingDate.min()"
      ],
      "execution_count": null,
      "outputs": []
    },
    {
      "cell_type": "code",
      "metadata": {
        "id": "2cqSK1Ro6hBN",
        "outputId": "8fed85a2-bb80-4776-e985-26d31bc97cb5"
      },
      "source": [
        "Plot_Cumulative_page(Series, book_analysis)"
      ],
      "execution_count": null,
      "outputs": [
        {
          "output_type": "display_data",
          "data": {
            "image/png": "[encoded data removed]",
            "text/plain": [
              "<Figure size 864x504 with 1 Axes>"
            ]
          },
          "metadata": {
            "tags": [],
            "needs_background": "light"
          }
        }
      ]
    },
    {
      "cell_type": "markdown",
      "metadata": {
        "id": "CP9RoJ3h6hBN"
      },
      "source": [
        "We can easily visualize that *The Mortal Instruments* is the series with the highest value of cumulative series page count between the considered book series. The writer wrote definetly a lot!!!"
      ]
    },
    {
      "cell_type": "markdown",
      "metadata": {
        "id": "QSX6Fl6s6iq8"
      },
      "source": [
        "# 5. Algorithmic question"
      ]
    },
    {
      "cell_type": "markdown",
      "metadata": {
        "id": "IGxJ396E6iq-"
      },
      "source": [
        "In order to answer the problem we are going to confront the string S with the a string composed of all the letters in the alphabet. Both strings are going to be uppercased in order to confront them."
      ]
    },
    {
      "cell_type": "code",
      "metadata": {
        "id": "_BdzcKtK6iq-"
      },
      "source": [
        "alphabet_string = string.ascii_uppercase\n",
        "S =\"CADFECEILGJHABNOPSTIRYOEABILCNR\""
      ],
      "execution_count": null,
      "outputs": []
    },
    {
      "cell_type": "code",
      "metadata": {
        "id": "y_DUubyf6iq_",
        "outputId": "eabd3464-6120-49ff-8735-e1bb702c87be"
      },
      "source": [
        "alphabet_string"
      ],
      "execution_count": null,
      "outputs": [
        {
          "output_type": "execute_result",
          "data": {
            "text/plain": [
              "'ABCDEFGHIJKLMNOPQRSTUVWXYZ'"
            ]
          },
          "metadata": {
            "tags": []
          },
          "execution_count": 4
        }
      ]
    },
    {
      "cell_type": "markdown",
      "metadata": {
        "id": "X4udI2Y-6irC"
      },
      "source": [
        "Lets see some short string examples and how much time they need to be computed:"
      ]
    },
    {
      "cell_type": "code",
      "metadata": {
        "id": "4Jczv4zk6irC",
        "outputId": "ecb14a88-e5ec-4d38-f977-1df325c756a9"
      },
      "source": [
        "%%time\n",
        "s1 =\"CADFECE\"\n",
        "max_lcs(s1)"
      ],
      "execution_count": null,
      "outputs": [
        {
          "output_type": "stream",
          "text": [
            "Wall time: 1.24 s\n"
          ],
          "name": "stdout"
        },
        {
          "output_type": "execute_result",
          "data": {
            "text/plain": [
              "3"
            ]
          },
          "metadata": {
            "tags": []
          },
          "execution_count": 5
        }
      ]
    },
    {
      "cell_type": "code",
      "metadata": {
        "id": "VON_HMpJ6irD",
        "outputId": "7ee3706c-ce7c-4bf4-bcb7-ac4ee0ae360b"
      },
      "source": [
        "%%time\n",
        "s3 =\"CADFECEILGJH\"\n",
        "max_lcs(s3)"
      ],
      "execution_count": null,
      "outputs": [
        {
          "output_type": "stream",
          "text": [
            "Wall time: 9min 17s\n"
          ],
          "name": "stdout"
        },
        {
          "output_type": "execute_result",
          "data": {
            "text/plain": [
              "5"
            ]
          },
          "metadata": {
            "tags": []
          },
          "execution_count": 6
        }
      ]
    },
    {
      "cell_type": "code",
      "metadata": {
        "id": "3KUHu-PD6irD",
        "outputId": "a1f1073d-ab40-4b33-ff28-1747019636db"
      },
      "source": [
        "%%time\n",
        "s4 = \"ABCD\"\n",
        "max_lcs(s4)"
      ],
      "execution_count": null,
      "outputs": [
        {
          "output_type": "stream",
          "text": [
            "Wall time: 15 ms\n"
          ],
          "name": "stdout"
        },
        {
          "output_type": "execute_result",
          "data": {
            "text/plain": [
              "4"
            ]
          },
          "metadata": {
            "tags": []
          },
          "execution_count": 7
        }
      ]
    },
    {
      "cell_type": "code",
      "metadata": {
        "id": "1AhMPfbL6irE",
        "outputId": "f012d9c2-fee9-43cd-8d02-7501a08a2264"
      },
      "source": [
        "%%time\n",
        "s5 = \"ZYX\"\n",
        "max_lcs(s5)"
      ],
      "execution_count": null,
      "outputs": [
        {
          "output_type": "stream",
          "text": [
            "Wall time: 0 ns\n"
          ],
          "name": "stdout"
        },
        {
          "output_type": "execute_result",
          "data": {
            "text/plain": [
              "1"
            ]
          },
          "metadata": {
            "tags": []
          },
          "execution_count": 8
        }
      ]
    },
    {
      "cell_type": "markdown",
      "metadata": {
        "id": "j3XZAa0p6irF"
      },
      "source": [
        "Given that we will show how the running time of the algorithm is exponential, we can already say that if the string's lenght is longer than **10** (s3, time: 9min 17 s ) it will not terminate in a reasonable amount of time.\n",
        "\n",
        "PS: if you are willing to wait a non-reasonable amount of time we will leave here the function call on the entire string S which has a lenght of 32. Good luck!"
      ]
    },
    {
      "cell_type": "code",
      "metadata": {
        "id": "r-oLwCe76irF"
      },
      "source": [
        "max_lcs(S)"
      ],
      "execution_count": null,
      "outputs": []
    },
    {
      "cell_type": "markdown",
      "metadata": {
        "id": "2FHJ5tn66irF"
      },
      "source": [
        "### Exponential time?"
      ]
    },
    {
      "cell_type": "markdown",
      "metadata": {
        "id": "q-OX1RQT6irF"
      },
      "source": [
        "We will now show that the algorithm has an exponential running time on a log-scaled plot.\n",
        "For this reason the exponentiality will be stated if the plot will show a straight line."
      ]
    },
    {
      "cell_type": "code",
      "metadata": {
        "id": "OuIdDNqh6irF",
        "outputId": "b8154003-32ca-47e8-a521-b25fd75f9a8f"
      },
      "source": [
        "exp_plot(S)"
      ],
      "execution_count": null,
      "outputs": [
        {
          "output_type": "display_data",
          "data": {
            "image/png": "[encoded data removed]",
            "text/plain": [
              "<Figure size 432x288 with 1 Axes>"
            ]
          },
          "metadata": {
            "tags": [],
            "needs_background": "light"
          }
        }
      ]
    },
    {
      "cell_type": "markdown",
      "metadata": {
        "id": "WWM64N9e6irF"
      },
      "source": [
        "## Dynamic Programming algorithm"
      ]
    },
    {
      "cell_type": "markdown",
      "metadata": {
        "id": "mZnxFekA6irF"
      },
      "source": [
        "We will now compute the same results using dynamic programming. \n",
        "\n",
        "Dynamic programming amounts to breaking down an optimization problem into simpler sub-problems, and storing the solution to each sub-problem so that each sub-problem is only solved once.\n"
      ]
    },
    {
      "cell_type": "markdown",
      "metadata": {
        "id": "ll6I9oFF6irF"
      },
      "source": [
        "### Examples"
      ]
    },
    {
      "cell_type": "code",
      "metadata": {
        "id": "TKOtSuL36irF",
        "outputId": "4aefed3b-c23e-431e-8189-bf3fa12eb248"
      },
      "source": [
        "%%time\n",
        "lcs_DP(s1)"
      ],
      "execution_count": null,
      "outputs": [
        {
          "output_type": "stream",
          "text": [
            "Wall time: 0 ns\n"
          ],
          "name": "stdout"
        },
        {
          "output_type": "execute_result",
          "data": {
            "text/plain": [
              "3"
            ]
          },
          "metadata": {
            "tags": []
          },
          "execution_count": 10
        }
      ]
    },
    {
      "cell_type": "code",
      "metadata": {
        "id": "pkPTwWXY6irG",
        "outputId": "2e42e43f-4c87-419a-aa63-899ef07a1ee6"
      },
      "source": [
        "%%time\n",
        "lcs_DP(s3)"
      ],
      "execution_count": null,
      "outputs": [
        {
          "output_type": "stream",
          "text": [
            "Wall time: 0 ns\n"
          ],
          "name": "stdout"
        },
        {
          "output_type": "execute_result",
          "data": {
            "text/plain": [
              "5"
            ]
          },
          "metadata": {
            "tags": []
          },
          "execution_count": 11
        }
      ]
    },
    {
      "cell_type": "code",
      "metadata": {
        "id": "tu0WwO5b6irG",
        "outputId": "aee6e6e2-9236-40e7-d657-6a51f8e34d41"
      },
      "source": [
        "%%time\n",
        "lcs_DP(alphabet_string)"
      ],
      "execution_count": null,
      "outputs": [
        {
          "output_type": "stream",
          "text": [
            "Wall time: 996 µs\n"
          ],
          "name": "stdout"
        },
        {
          "output_type": "execute_result",
          "data": {
            "text/plain": [
              "26"
            ]
          },
          "metadata": {
            "tags": []
          },
          "execution_count": 12
        }
      ]
    },
    {
      "cell_type": "code",
      "metadata": {
        "scrolled": false,
        "id": "WaSno9C-6irG",
        "outputId": "45c6efe4-6202-4e3e-ce46-a5a733eb8278"
      },
      "source": [
        "%%time\n",
        "lcs_DP(alphabet_string[::-1])"
      ],
      "execution_count": null,
      "outputs": [
        {
          "output_type": "stream",
          "text": [
            "Wall time: 0 ns\n"
          ],
          "name": "stdout"
        },
        {
          "output_type": "execute_result",
          "data": {
            "text/plain": [
              "1"
            ]
          },
          "metadata": {
            "tags": []
          },
          "execution_count": 13
        }
      ]
    },
    {
      "cell_type": "markdown",
      "metadata": {
        "id": "Sn-OLtwI6irG"
      },
      "source": [
        " "
      ]
    },
    {
      "cell_type": "markdown",
      "metadata": {
        "id": "IuSUkwiF6irG"
      },
      "source": [
        "We can now see how using dynamic programming also a very long string like S can be computed in a very reasonable amount of time:"
      ]
    },
    {
      "cell_type": "code",
      "metadata": {
        "id": "m-updZ8Y6irG",
        "outputId": "2e822d3e-8b44-44ea-de31-38e880d45d01"
      },
      "source": [
        "%%time\n",
        "lcs_DP(S)"
      ],
      "execution_count": null,
      "outputs": [
        {
          "output_type": "stream",
          "text": [
            "Wall time: 0 ns\n"
          ],
          "name": "stdout"
        },
        {
          "output_type": "execute_result",
          "data": {
            "text/plain": [
              "11"
            ]
          },
          "metadata": {
            "tags": []
          },
          "execution_count": 14
        }
      ]
    },
    {
      "cell_type": "markdown",
      "metadata": {
        "id": "WI_o4PSQ6irG"
      },
      "source": [
        " "
      ]
    },
    {
      "cell_type": "markdown",
      "metadata": {
        "id": "-f5MtcMt6irG"
      },
      "source": [
        "### Running time of a dynamic programming algorithm"
      ]
    },
    {
      "cell_type": "markdown",
      "metadata": {
        "id": "WDZmHE196irG"
      },
      "source": [
        "Using Dynamic Programmin the running time will be polynomial of O(m*n).\n",
        "\n",
        "In this specific case, given the fact that one of the two strings we are considering will be fixed to be **alphabet_string**, the running time of the algorithm will depend only on the lenght of the string S we are going to give in input.\n",
        "\n",
        "We can have a direct grasp of this by calling the following function **matrix** on different strings and see directly that the number of rows will be unchanged, while the number of columns will change accordingly to the lenght of S."
      ]
    },
    {
      "cell_type": "markdown",
      "metadata": {
        "id": "c4GCfWHi6irG"
      },
      "source": [
        "## printing the DP table on a matrix - to show the computations done"
      ]
    },
    {
      "cell_type": "code",
      "metadata": {
        "id": "yqwN__1a6irG",
        "outputId": "0704bd8b-5828-4e27-c527-61f923dfc73d"
      },
      "source": [
        "matrix_ = matrix(alphabet_string,S)\n",
        "\n",
        "for row in matrix_:\n",
        "    print(row)"
      ],
      "execution_count": null,
      "outputs": [
        {
          "output_type": "stream",
          "text": [
            "[0, 0, 0, 0, 0, 0, 0, 0, 0, 0, 0, 0, 0, 0, 0, 0, 0, 0, 0, 0, 0, 0, 0, 0, 0, 0, 0, 0, 0, 0, 0, 0]\n",
            "[0, 0, 1, 1, 1, 1, 1, 1, 1, 1, 1, 1, 1, 1, 1, 1, 1, 1, 1, 1, 1, 1, 1, 1, 1, 1, 1, 1, 1, 1, 1, 1]\n",
            "[0, 0, 1, 1, 1, 1, 1, 1, 1, 1, 1, 1, 1, 1, 2, 2, 2, 2, 2, 2, 2, 2, 2, 2, 2, 2, 2, 2, 2, 2, 2, 2]\n",
            "[0, 1, 1, 1, 1, 1, 2, 2, 2, 2, 2, 2, 2, 2, 2, 2, 2, 2, 2, 2, 2, 2, 2, 2, 2, 2, 2, 2, 2, 3, 3, 3]\n",
            "[0, 1, 1, 2, 2, 2, 2, 2, 2, 2, 2, 2, 2, 2, 2, 2, 2, 2, 2, 2, 2, 2, 2, 2, 2, 2, 2, 2, 2, 3, 3, 3]\n",
            "[0, 1, 1, 2, 2, 3, 3, 3, 3, 3, 3, 3, 3, 3, 3, 3, 3, 3, 3, 3, 3, 3, 3, 3, 3, 3, 3, 3, 3, 3, 3, 3]\n",
            "[0, 1, 1, 2, 3, 3, 3, 3, 3, 3, 3, 3, 3, 3, 3, 3, 3, 3, 3, 3, 3, 3, 3, 3, 3, 3, 3, 3, 3, 3, 3, 3]\n",
            "[0, 1, 1, 2, 3, 3, 3, 3, 3, 3, 4, 4, 4, 4, 4, 4, 4, 4, 4, 4, 4, 4, 4, 4, 4, 4, 4, 4, 4, 4, 4, 4]\n",
            "[0, 1, 1, 2, 3, 3, 3, 3, 3, 3, 4, 4, 5, 5, 5, 5, 5, 5, 5, 5, 5, 5, 5, 5, 5, 5, 5, 5, 5, 5, 5, 5]\n",
            "[0, 1, 1, 2, 3, 3, 3, 3, 4, 4, 4, 4, 5, 5, 5, 5, 5, 5, 5, 5, 6, 6, 6, 6, 6, 6, 6, 6, 6, 6, 6, 6]\n",
            "[0, 1, 1, 2, 3, 3, 3, 3, 4, 4, 4, 5, 5, 5, 5, 5, 5, 5, 5, 5, 6, 6, 6, 6, 6, 6, 6, 6, 6, 6, 6, 6]\n",
            "[0, 1, 1, 2, 3, 3, 3, 3, 4, 4, 4, 5, 5, 5, 5, 5, 5, 5, 5, 5, 6, 6, 6, 6, 6, 6, 6, 6, 6, 6, 6, 6]\n",
            "[0, 1, 1, 2, 3, 3, 3, 3, 4, 5, 5, 5, 5, 5, 5, 5, 5, 5, 5, 5, 6, 6, 6, 6, 6, 6, 6, 6, 7, 7, 7, 7]\n",
            "[0, 1, 1, 2, 3, 3, 3, 3, 4, 5, 5, 5, 5, 5, 5, 5, 5, 5, 5, 5, 6, 6, 6, 6, 6, 6, 6, 6, 7, 7, 7, 7]\n",
            "[0, 1, 1, 2, 3, 3, 3, 3, 4, 5, 5, 5, 5, 5, 5, 6, 6, 6, 6, 6, 6, 6, 6, 6, 6, 6, 6, 6, 7, 7, 8, 8]\n",
            "[0, 1, 1, 2, 3, 3, 3, 3, 4, 5, 5, 5, 5, 5, 5, 6, 7, 7, 7, 7, 7, 7, 7, 7, 7, 7, 7, 7, 7, 7, 8, 8]\n",
            "[0, 1, 1, 2, 3, 3, 3, 3, 4, 5, 5, 5, 5, 5, 5, 6, 7, 8, 8, 8, 8, 8, 8, 8, 8, 8, 8, 8, 8, 8, 8, 8]\n",
            "[0, 1, 1, 2, 3, 3, 3, 3, 4, 5, 5, 5, 5, 5, 5, 6, 7, 8, 8, 8, 8, 8, 8, 8, 8, 8, 8, 8, 8, 8, 8, 8]\n",
            "[0, 1, 1, 2, 3, 3, 3, 3, 4, 5, 5, 5, 5, 5, 5, 6, 7, 8, 8, 8, 8, 9, 9, 9, 9, 9, 9, 9, 9, 9, 9, 9]\n",
            "[0, 1, 1, 2, 3, 3, 3, 3, 4, 5, 5, 5, 5, 5, 5, 6, 7, 8, 9, 9, 9, 9, 9, 9, 9, 9, 9, 9, 9, 9, 9, 9]\n",
            "[0, 1, 1, 2, 3, 3, 3, 3, 4, 5, 5, 5, 5, 5, 5, 6, 7, 8, 9, 10, 10, 10, 10, 10, 10, 10, 10, 10, 10, 10, 10, 10]\n",
            "[0, 1, 1, 2, 3, 3, 3, 3, 4, 5, 5, 5, 5, 5, 5, 6, 7, 8, 9, 10, 10, 10, 10, 10, 10, 10, 10, 10, 10, 10, 10, 10]\n",
            "[0, 1, 1, 2, 3, 3, 3, 3, 4, 5, 5, 5, 5, 5, 5, 6, 7, 8, 9, 10, 10, 10, 10, 10, 10, 10, 10, 10, 10, 10, 10, 10]\n",
            "[0, 1, 1, 2, 3, 3, 3, 3, 4, 5, 5, 5, 5, 5, 5, 6, 7, 8, 9, 10, 10, 10, 10, 10, 10, 10, 10, 10, 10, 10, 10, 10]\n",
            "[0, 1, 1, 2, 3, 3, 3, 3, 4, 5, 5, 5, 5, 5, 5, 6, 7, 8, 9, 10, 10, 10, 10, 10, 10, 10, 10, 10, 10, 10, 10, 10]\n",
            "[0, 1, 1, 2, 3, 3, 3, 3, 4, 5, 5, 5, 5, 5, 5, 6, 7, 8, 9, 10, 10, 10, 11, 11, 11, 11, 11, 11, 11, 11, 11, 11]\n",
            "[0, 1, 1, 2, 3, 3, 3, 3, 4, 5, 5, 5, 5, 5, 5, 6, 7, 8, 9, 10, 10, 10, 11, 11, 11, 11, 11, 11, 11, 11, 11, 11]\n"
          ],
          "name": "stdout"
        }
      ]
    },
    {
      "cell_type": "code",
      "metadata": {
        "id": "CjbDTaW96irG",
        "outputId": "73d73001-0773-4790-d129-72d7c7ff8a1d"
      },
      "source": [
        "matrix_ = matrix(alphabet_string,S[:5])\n",
        "\n",
        "for row in matrix_:\n",
        "    print(row)"
      ],
      "execution_count": null,
      "outputs": [
        {
          "output_type": "stream",
          "text": [
            "[0, 0, 0, 0, 0, 0]\n",
            "[0, 0, 1, 1, 1, 1]\n",
            "[0, 0, 1, 1, 1, 1]\n",
            "[0, 1, 1, 1, 1, 1]\n",
            "[0, 1, 1, 2, 2, 2]\n",
            "[0, 1, 1, 2, 2, 3]\n",
            "[0, 1, 1, 2, 3, 3]\n",
            "[0, 1, 1, 2, 3, 3]\n",
            "[0, 1, 1, 2, 3, 3]\n",
            "[0, 1, 1, 2, 3, 3]\n",
            "[0, 1, 1, 2, 3, 3]\n",
            "[0, 1, 1, 2, 3, 3]\n",
            "[0, 1, 1, 2, 3, 3]\n",
            "[0, 1, 1, 2, 3, 3]\n",
            "[0, 1, 1, 2, 3, 3]\n",
            "[0, 1, 1, 2, 3, 3]\n",
            "[0, 1, 1, 2, 3, 3]\n",
            "[0, 1, 1, 2, 3, 3]\n",
            "[0, 1, 1, 2, 3, 3]\n",
            "[0, 1, 1, 2, 3, 3]\n",
            "[0, 1, 1, 2, 3, 3]\n",
            "[0, 1, 1, 2, 3, 3]\n",
            "[0, 1, 1, 2, 3, 3]\n",
            "[0, 1, 1, 2, 3, 3]\n",
            "[0, 1, 1, 2, 3, 3]\n",
            "[0, 1, 1, 2, 3, 3]\n",
            "[0, 1, 1, 2, 3, 3]\n"
          ],
          "name": "stdout"
        }
      ]
    }
  ]
}